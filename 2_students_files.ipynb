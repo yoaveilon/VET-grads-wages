{
 "cells": [
  {
   "cell_type": "code",
   "execution_count": 1,
   "metadata": {},
   "outputs": [],
   "source": [
    "import pandas as pd\n",
    "import numpy as np\n",
    "import glob"
   ]
  },
  {
   "cell_type": "code",
   "execution_count": 2,
   "metadata": {},
   "outputs": [],
   "source": [
    "## Astrtegia file\n",
    "students = pd.read_excel(\"C:/Users/yoave/Documents/Data Projects/הכשרה מקצועית_יואב/Data/Students data/raw/students_10-21.xlsx\")"
   ]
  },
  {
   "cell_type": "code",
   "execution_count": 7,
   "metadata": {},
   "outputs": [
    {
     "name": "stdout",
     "output_type": "stream",
     "text": [
      "Number of unique students:  471455\n",
      "Number of rows:  604653\n",
      "Percentage of Students with one hahshra:  22.03 %\n"
     ]
    }
   ],
   "source": [
    "## Print file info\n",
    "uniques = students[\"id\"].nunique()\n",
    "rows = students.shape[0]\n",
    "no_date = students.loc[(students[\"end_year\"]==1900)]\n",
    "\n",
    "print(\"Number of unique students: \", uniques)\n",
    "\n",
    "print(\"Number of rows: \", rows)\n",
    "\n",
    "print(\"Percentage of Students with one hahshra: \" , round(100-uniques/rows*100, 2), \"%\")"
   ]
  },
  {
   "cell_type": "code",
   "execution_count": 23,
   "metadata": {},
   "outputs": [
    {
     "name": "stdout",
     "output_type": "stream",
     "text": [
      "(19707, 45)\n"
     ]
    }
   ],
   "source": [
    "nehiga = students.loc[(students[\"eshcol\"] == 'נהיגה ')]\n",
    "nehiga = nehiga.loc[(nehiga[\"end_year\"] == 2018) | (nehiga[\"end_year\"] == 2019)]\n",
    "print(nehiga.shape)"
   ]
  },
  {
   "cell_type": "code",
   "execution_count": 11,
   "metadata": {},
   "outputs": [],
   "source": [
    "## If end_date is null return end_date_p\n",
    "students[\"end_date\"] = np.where(students[\"end_date\"].isnull(), students[\"end_date_p\"], students[\"end_date\"])"
   ]
  },
  {
   "cell_type": "code",
   "execution_count": 13,
   "metadata": {},
   "outputs": [],
   "source": [
    "## replace 2206,2109,2104,2121 with 0\n",
    "students[\"end_year\"] = students[\"end_year\"].replace([2206,2109,2104,2121],0)\n",
    "students = students.loc[(students[\"end_year\"] != 0)]"
   ]
  },
  {
   "cell_type": "code",
   "execution_count": 15,
   "metadata": {},
   "outputs": [
    {
     "name": "stderr",
     "output_type": "stream",
     "text": [
      "C:\\Users\\yoave\\AppData\\Local\\Temp\\ipykernel_23392\\3032400652.py:3: SettingWithCopyWarning: \n",
      "A value is trying to be set on a copy of a slice from a DataFrame.\n",
      "Try using .loc[row_indexer,col_indexer] = value instead\n",
      "\n",
      "See the caveats in the documentation: https://pandas.pydata.org/pandas-docs/stable/user_guide/indexing.html#returning-a-view-versus-a-copy\n",
      "  students[date_cols] = students[date_cols].apply(pd.to_datetime, format='%d/%m/%Y')\n"
     ]
    }
   ],
   "source": [
    "## Keep only last end_date\n",
    "date_cols=[\"end_date\"]\n",
    "students[date_cols] = students[date_cols].apply(pd.to_datetime, format='%d/%m/%Y')"
   ]
  },
  {
   "cell_type": "code",
   "execution_count": 16,
   "metadata": {},
   "outputs": [],
   "source": [
    "## Keep relevant maslulim\n",
    "### 5=shikum, 6=shabas , 13 = hashmal_mesuyag, 15 = OJT, [21,31,67] = hishtalmut, 34 = patuah , 33= yarok , 37= hashlamat haskala\n",
    "drop_maslulim = [5,6,13,15,21,31,67,34,33,37]\n",
    "droped = students[students['maslul'].isin(drop_maslulim)]\n",
    "## droped shape\n",
    "droped[\"id\"].nunique()\n",
    "students = students[~students['maslul'].isin(drop_maslulim)]"
   ]
  },
  {
   "cell_type": "code",
   "execution_count": 18,
   "metadata": {},
   "outputs": [],
   "source": [
    "## Keep relevant status\n",
    "drop_statusim = [\"עזב\",\"בוגר - מסיים\",\"עבר לקורס חדש\"]\n",
    "droped_status = students[students['student_status'].isin(drop_statusim)]\n",
    "students = students[~students['student_status'].isin(drop_statusim)]"
   ]
  },
  {
   "cell_type": "code",
   "execution_count": 22,
   "metadata": {},
   "outputs": [],
   "source": [
    "## Keep only first course data for each id\n",
    "df = students.sort_values(by=[\"id\",'end_date']).drop_duplicates(subset='id', keep='first')"
   ]
  },
  {
   "cell_type": "code",
   "execution_count": 24,
   "metadata": {},
   "outputs": [
    {
     "name": "stdout",
     "output_type": "stream",
     "text": [
      "(16898, 45)\n"
     ]
    }
   ],
   "source": [
    "nehiga = df.loc[(df[\"eshcol\"] == 'נהיגה ')]\n",
    "nehiga = nehiga.loc[(nehiga[\"end_year\"] == 2018) | (nehiga[\"end_year\"] == 2019)]\n",
    "print(nehiga.shape)"
   ]
  },
  {
   "cell_type": "code",
   "execution_count": 18,
   "metadata": {},
   "outputs": [],
   "source": [
    "df.to_csv(\"Data/Students data/students_processed_2.csv\", index=False)"
   ]
  }
 ],
 "metadata": {
  "kernelspec": {
   "display_name": "base",
   "language": "python",
   "name": "python3"
  },
  "language_info": {
   "codemirror_mode": {
    "name": "ipython",
    "version": 3
   },
   "file_extension": ".py",
   "mimetype": "text/x-python",
   "name": "python",
   "nbconvert_exporter": "python",
   "pygments_lexer": "ipython3",
   "version": "3.10.9"
  },
  "orig_nbformat": 4,
  "vscode": {
   "interpreter": {
    "hash": "21285703334ff9ad0485a20549414d39509d302abdef938bdec846b879f92609"
   }
  }
 },
 "nbformat": 4,
 "nbformat_minor": 2
}
