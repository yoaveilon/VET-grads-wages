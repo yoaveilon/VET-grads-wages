{
 "cells": [
  {
   "cell_type": "code",
   "execution_count": 1,
   "metadata": {},
   "outputs": [],
   "source": [
    "import pandas as pd\n",
    "import numpy as np\n",
    "from linearmodels.panel import PanelOLS\n",
    "import statsmodels.api as s"
   ]
  },
  {
   "cell_type": "code",
   "execution_count": 2,
   "metadata": {},
   "outputs": [],
   "source": [
    "df = pd.read_csv(\"Output/df_for_panel_fixedeffect.csv\")"
   ]
  },
  {
   "cell_type": "code",
   "execution_count": 3,
   "metadata": {},
   "outputs": [
    {
     "name": "stderr",
     "output_type": "stream",
     "text": [
      "c:\\Users\\yoave\\AppData\\Local\\miniconda3\\lib\\site-packages\\pandas\\core\\arraylike.py:402: RuntimeWarning: divide by zero encountered in log\n",
      "  result = getattr(ufunc, method)(*inputs, **kwargs)\n"
     ]
    }
   ],
   "source": [
    "df[\"log_wage\"] = np.log(df[\"real_wage\"])"
   ]
  },
  {
   "cell_type": "code",
   "execution_count": 4,
   "metadata": {},
   "outputs": [],
   "source": [
    "## Define the data as a panel\n",
    "\n",
    "df[\"date\"] = pd.to_datetime(df[\"date\"], format=\"%Y-%m-%d\")\n",
    "\n",
    "# Set the index to the 'id' and 'date' columns\n",
    "df = df.set_index(['id', 'date'])\n",
    "\n",
    "# Create a MultiIndex object from the index\n",
    "multi_index = pd.MultiIndex.from_arrays([df.index.get_level_values('id'), df.index.get_level_values('date')])\n",
    "\n",
    "# Assign the MultiIndex to the DataFrame\n",
    "df.index = multi_index"
   ]
  },
  {
   "cell_type": "code",
   "execution_count": 20,
   "metadata": {},
   "outputs": [],
   "source": [
    "## drop eshcol_חשב שכר\n",
    "df = df.drop(columns=[\"eshcol_חשב שכר\"])"
   ]
  },
  {
   "cell_type": "code",
   "execution_count": null,
   "metadata": {},
   "outputs": [],
   "source": [
    "m = PanelOLS(dependent=df['log_wage'],\n",
    "             exog=df[['constant','x1','x2']],\n",
    "             entity_effects=True,\n",
    "             time_effects=True,\n",
    "             other_effects=df['eta'])\n",
    "m.fit(cov_type='clustered', cluster_entity=True)"
   ]
  }
 ],
 "metadata": {
  "kernelspec": {
   "display_name": "base",
   "language": "python",
   "name": "python3"
  },
  "language_info": {
   "codemirror_mode": {
    "name": "ipython",
    "version": 3
   },
   "file_extension": ".py",
   "mimetype": "text/x-python",
   "name": "python",
   "nbconvert_exporter": "python",
   "pygments_lexer": "ipython3",
   "version": "3.10.9"
  },
  "orig_nbformat": 4,
  "vscode": {
   "interpreter": {
    "hash": "8fcd610f96fc2ea517f0d7bca0e2b2aa80f8e72378a88a658472599d760211c0"
   }
  }
 },
 "nbformat": 4,
 "nbformat_minor": 2
}
