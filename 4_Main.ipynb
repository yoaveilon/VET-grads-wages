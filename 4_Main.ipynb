{
 "cells": [
  {
   "cell_type": "code",
   "execution_count": 2,
   "metadata": {},
   "outputs": [],
   "source": [
    "import pandas as pd\n",
    "import numpy as np\n",
    "\n",
    "\n",
    "import matplotlib.pyplot as plt\n",
    "import matplotlib.ticker as ticker\n",
    "\n",
    "import seaborn as sns"
   ]
  },
  {
   "cell_type": "code",
   "execution_count": null,
   "metadata": {},
   "outputs": [],
   "source": [
    "data = pd.read_csv(\"Output/merge_stud_batla.csv\")"
   ]
  },
  {
   "cell_type": "code",
   "execution_count": 5,
   "metadata": {},
   "outputs": [],
   "source": [
    "def year_before(x):\n",
    "    if x[\"intervention_index\"] <= 0 and x[\"intervention_index\"] >= -24:\n",
    "        return 1\n",
    "    else:\n",
    "        return 0\n",
    "data[\"year_before\"] = data.apply(year_before, axis=1)"
   ]
  },
  {
   "cell_type": "code",
   "execution_count": 6,
   "metadata": {},
   "outputs": [],
   "source": [
    "## Filter only the first 24 months after the intervention and the 24 months before the intervention\n",
    "data = data.loc[(data[\"intervention_index\"]>=-24) & (data[\"intervention_index\"]<= 24)]"
   ]
  },
  {
   "cell_type": "code",
   "execution_count": 7,
   "metadata": {},
   "outputs": [],
   "source": [
    "df = data.copy()"
   ]
  },
  {
   "cell_type": "code",
   "execution_count": 8,
   "metadata": {},
   "outputs": [],
   "source": [
    "df[\"date\"] = pd.to_datetime(df[\"date\"], format=\"%Y-%m-%d\")\n",
    "df[\"year\"] = df[\"date\"].dt.year"
   ]
  },
  {
   "cell_type": "code",
   "execution_count": 9,
   "metadata": {},
   "outputs": [],
   "source": [
    "cpi = {2014:99.8,2015:99.2,2016:98.7,2017:98.9,2018:99.7,2019:100.5,2020:100,2021:101.5,2022:105.9}\n",
    "\n",
    "## Calculate the real wagebase 2021\n",
    "base_year = 2021\n",
    "def real_wage(x):\n",
    "    if x[\"year\"] in cpi.keys():\n",
    "        return x[\"wage_per_month\"]*(cpi[base_year]/cpi[x[\"year\"]])\n",
    "    else:\n",
    "        return x[\"wage_per_month\"]*(cpi[base_year]/cpi[base_year])\n",
    "\n",
    "df[\"real_wage\"] = df.apply(real_wage, axis=1)"
   ]
  },
  {
   "cell_type": "code",
   "execution_count": 10,
   "metadata": {},
   "outputs": [],
   "source": [
    "def help_col(x):\n",
    "    if x[\"year_before\"] == 1:\n",
    "        return x[\"real_wage\"]\n",
    "    else:\n",
    "        ## return nan\n",
    "        return np.nan\n",
    "\n",
    "df[\"help_col\"] = df.apply(help_col, axis=1)\n",
    "\n",
    "df[\"mean_before\"] = df.groupby(\"id\")[\"help_col\"].transform(\"mean\")\n",
    "\n",
    "df = df.drop(\"help_col\", axis=1)"
   ]
  },
  {
   "cell_type": "code",
   "execution_count": 11,
   "metadata": {},
   "outputs": [],
   "source": [
    "## Add wage std column\n",
    "df[\"wage_std\"] = (df[\"real_wage\"] - df[\"real_wage\"].mean()) / df[\"real_wage\"].std()"
   ]
  },
  {
   "cell_type": "code",
   "execution_count": null,
   "metadata": {},
   "outputs": [],
   "source": [
    "print(df[\"wage_std\"].describe())"
   ]
  },
  {
   "cell_type": "code",
   "execution_count": 12,
   "metadata": {},
   "outputs": [],
   "source": [
    "## Drop id's with std \n",
    "df[\"max_std\"] = df.groupby(\"id\")[\"wage_std\"].transform(\"max\")\n",
    "df_big_std = df.loc[(df[\"max_std\"] > 5)]\n",
    "df = df.loc[(df[\"max_std\"] <= 5)]"
   ]
  },
  {
   "cell_type": "code",
   "execution_count": 13,
   "metadata": {},
   "outputs": [],
   "source": [
    "df[\"is_before\"] = df[\"intervention_index\"].apply(lambda x: 1 if x < 0 else 0)\n",
    "\n",
    "## creates column is low before is mean wage is below 2500\n",
    "df[\"is_low_before\"] = df[\"mean_before\"].apply(lambda x: 1 if x <= 2500 else 0)\n",
    "\n",
    "df[\"is_below_mean_before\"] = df[\"mean_before\"].apply(lambda x: 1 if x <= 5400 else 0)\n",
    "\n",
    "df[\"is_above_mean_before\"] = df[\"mean_before\"].apply(lambda x: 1 if x >= 5400 else 0)"
   ]
  },
  {
   "cell_type": "code",
   "execution_count": null,
   "metadata": {},
   "outputs": [],
   "source": [
    "eshcolot = list(df[\"eshcol_name\"].unique())\n",
    "\n",
    "## drop nan from eshcolot\n",
    "eshcolot = [x for x in eshcolot if str(x) != 'nan']\n",
    "\n",
    "for eshcol in eshcolot:\n",
    "    df_e = df.loc[df[\"eshcol_name\"] == eshcol]\n",
    "    df_e.to_csv(eshcol + '.csv', index=False)"
   ]
  },
  {
   "cell_type": "code",
   "execution_count": 16,
   "metadata": {},
   "outputs": [
    {
     "name": "stdout",
     "output_type": "stream",
     "text": [
      "0    0.605607\n",
      "1    0.394393\n",
      "Name: is_low_before, dtype: float64\n",
      "1    0.599362\n",
      "0    0.400638\n",
      "Name: is_below_mean_before, dtype: float64\n",
      "0    0.599362\n",
      "1    0.400638\n",
      "Name: is_above_mean_before, dtype: float64\n"
     ]
    }
   ],
   "source": [
    "print(df[\"is_low_before\"].value_counts(normalize=True))\n",
    "print(df[\"is_below_mean_before\"].value_counts(normalize=True))\n",
    "print(df[\"is_above_mean_before\"].value_counts(normalize=True))"
   ]
  },
  {
   "cell_type": "code",
   "execution_count": 14,
   "metadata": {},
   "outputs": [],
   "source": [
    "after = df.loc[(df[\"is_before\"]==0)]\n",
    "before = df.loc[(df[\"is_before\"]==1)]"
   ]
  },
  {
   "cell_type": "code",
   "execution_count": null,
   "metadata": {},
   "outputs": [],
   "source": [
    "print(before[\"real_wage\"].describe())\n"
   ]
  },
  {
   "cell_type": "code",
   "execution_count": 15,
   "metadata": {},
   "outputs": [
    {
     "name": "stdout",
     "output_type": "stream",
     "text": [
      "count    5.502210e+06\n",
      "mean     7.466071e+03\n",
      "std      9.305340e+03\n",
      "min      0.000000e+00\n",
      "25%      0.000000e+00\n",
      "50%      5.339698e+03\n",
      "75%      1.075404e+04\n",
      "max      7.413470e+04\n",
      "Name: real_wage, dtype: float64\n",
      "count    2.878056e+06\n",
      "mean     6.254076e+03\n",
      "std      8.821655e+03\n",
      "min      0.000000e+00\n",
      "25%      0.000000e+00\n",
      "50%      3.424102e+03\n",
      "75%      9.263957e+03\n",
      "max      7.405686e+04\n",
      "Name: real_wage, dtype: float64\n",
      "count    2.624154e+06\n",
      "mean     8.795333e+03\n",
      "std      9.634702e+03\n",
      "min      0.000000e+00\n",
      "25%      8.445000e+02\n",
      "50%      6.757739e+03\n",
      "75%      1.218195e+04\n",
      "max      7.413470e+04\n",
      "Name: real_wage, dtype: float64\n"
     ]
    }
   ],
   "source": [
    "\n",
    "print(df[\"real_wage\"].describe())\n",
    "\n",
    "print(before[\"real_wage\"].describe())\n",
    "\n",
    "print(after[\"real_wage\"].describe())\n"
   ]
  },
  {
   "cell_type": "code",
   "execution_count": null,
   "metadata": {},
   "outputs": [],
   "source": [
    "## Basic EDA\n",
    "\n",
    "## Number of unique id's\n",
    "print(\"number of id's\", df[\"id\"].nunique())\n",
    "\n",
    "## Year range\n",
    "print(\"Wage years range\", df[\"date\"].min(), df[\"date\"].max())\n",
    "print(\"Course years range\", df[\"end_date\"].min(), df[\"end_date\"].max())"
   ]
  },
  {
   "cell_type": "code",
   "execution_count": null,
   "metadata": {},
   "outputs": [],
   "source": [
    "df[\"date\"] = pd.to_datetime(df[\"date\"])\n",
    "by_year = df.groupby(df[\"date\"].dt.year)[\"real_wage\"].mean().reset_index()"
   ]
  },
  {
   "cell_type": "code",
   "execution_count": null,
   "metadata": {},
   "outputs": [],
   "source": [
    "\n",
    "hfont = {'fontname':'Heebo'}\n",
    "color = \"#F84040\"\n",
    "color2 = \"#F8C440\""
   ]
  },
  {
   "cell_type": "code",
   "execution_count": null,
   "metadata": {},
   "outputs": [],
   "source": [
    "## kde dist plot before and after intervention\n",
    "dist_1 = df.loc[(df[\"is_before\"]==1)].groupby([\"id\"])[\"real_wage\"].mean().reset_index()\n",
    "dist_2 = df.loc[(df[\"is_before\"]==0)].groupby([\"id\"])[\"real_wage\"].mean().reset_index()\n",
    "ax = sns.kdeplot(dist_1[\"real_wage\"], label=\"before\")\n",
    "ax = sns.kdeplot(dist_2[\"real_wage\"], label=\"after\")\n",
    "xtitle = (\"Wage Per Month\")\n",
    "ax.set_xlabel(xtitle, **hfont)\n",
    "ax.set_xlim(0, 40000)\n",
    "ax.lines[0].set_color(color)\n",
    "ax.lines[1].set_color(color2)\n",
    "ax.legend()\n",
    "\n",
    "plt.show()\n"
   ]
  },
  {
   "cell_type": "code",
   "execution_count": null,
   "metadata": {},
   "outputs": [],
   "source": [
    "df_b_a = df.groupby([\"id\",\"is_before\"])[\"real_wage\"].mean().reset_index()\n",
    "df_b = df.loc[(df[\"is_before\"]==1)]\n",
    "df_a = df.loc[(df[\"is_before\"]==0)]\n"
   ]
  },
  {
   "cell_type": "code",
   "execution_count": null,
   "metadata": {},
   "outputs": [],
   "source": [
    "df_a[\"real_wage\"].describe()"
   ]
  },
  {
   "cell_type": "code",
   "execution_count": null,
   "metadata": {},
   "outputs": [],
   "source": [
    "print(df_b[\"real_wage\"].mean())\n",
    "print(df_a[\"real_wage\"].mean())\n"
   ]
  },
  {
   "cell_type": "code",
   "execution_count": null,
   "metadata": {},
   "outputs": [],
   "source": [
    "print(df_b[\"real_wage\"].median())\n",
    "print(df_a[\"real_wage\"].median())"
   ]
  },
  {
   "cell_type": "code",
   "execution_count": null,
   "metadata": {},
   "outputs": [],
   "source": [
    "## CDF plot\n",
    "ax = sns.kdeplot(df_b[\"real_wage\"], cumulative=True, label=\"Before Course\")\n",
    "ax = sns.kdeplot(df_a[\"real_wage\"], cumulative=True, label=\"After Course\")\n",
    "xtitle = (\"שכר חודשי ממוצע\")[::-1]\n",
    "ax.set_xlabel(xtitle)\n",
    "ytitle = (\"שכיחות\")[::-1]\n",
    "ax.set_ylabel(ytitle)\n",
    "## add line in 5400\n",
    "## add title to line\n",
    "ax.set_xlim(0, 20000)\n",
    "ax.lines[0].set_color(color)\n",
    "ax.lines[1].set_color(color2)\n",
    "## Add horizontal line in median\n",
    "ax.axhline(y=0.5, color=\"blue\", linestyle=\"--\")\n",
    "\n",
    "plt.show()"
   ]
  },
  {
   "cell_type": "code",
   "execution_count": null,
   "metadata": {},
   "outputs": [],
   "source": [
    "df[\"end_year\"].value_counts()"
   ]
  },
  {
   "cell_type": "code",
   "execution_count": null,
   "metadata": {},
   "outputs": [],
   "source": [
    "#   Plot A\n",
    "### 24 month before and after intervention\n",
    "### Before Covid\n",
    "### Normalized (std < 4)\n",
    "\n",
    "## filter after before 2019\n",
    "plot_a = df.loc[(df[\"end_year\"] < 2020)]\n",
    "plot_a = plot_a.groupby(\"intervention_index\")[\"real_wage\"].agg([\"mean\", \"std\"]).reset_index()\n",
    "\n",
    "\n",
    "hfont = {'fontname':'Heebo'}\n",
    "ylabel = (\"שכר חודשי ממוצע\")[::-1]\n",
    "xlabel = (\"חודשים לפני ואחרי סיום ההכשרה\")[::-1]\n",
    "line_title = (\"חודש סיום\")[::-1]\n",
    "\n",
    "# Line plot of mean wage\n",
    "plt.figure(figsize=(10, 5))\n",
    "sns.lineplot(x=\"intervention_index\", y=\"mean\", data=plot_a)\n",
    "plt.gca().lines[0].set_color(\"#006BA2\")\n",
    "plt.xlabel(xlabel, **hfont)\n",
    "plt.ylabel(ylabel, **hfont)\n",
    "plt.yticks(np.arange(2000, 11000, 1000))\n",
    "plt.axvline(x=0, color=\"black\", linestyle=(0, (1, 5))) # intervention month\n",
    "plt.text(-0.4, 4500, line_title, rotation=90, backgroundcolor=\"white\", **hfont)\n",
    "plt.gca().spines['right'].set_visible(False)\n",
    "plt.gca().spines['top'].set_visible(False)\n",
    "plt.gca().spines['left'].set_visible(False)\n",
    "## Remove ticks\n",
    "plt.gca().tick_params(axis='y', which='both', length=0)\n",
    "\n",
    "plt.gca().yaxis.set_major_formatter(ticker.FuncFormatter(lambda x, pos: '{:,.0f}'.format(x)))\n",
    "plt.gca().yaxis.grid(True, linestyle='-', which='major', color='lightgrey', alpha=0.5) ## Add horizontal grid\n",
    "\n",
    "\n",
    "\n"
   ]
  },
  {
   "cell_type": "code",
   "execution_count": null,
   "metadata": {},
   "outputs": [],
   "source": [
    "#   Plot A_2\n",
    "### 24 month before and after intervention\n",
    "### Before Covid\n",
    "### Normalized (std < 4)\n",
    "\n",
    "## filter after before 2019\n",
    "plot_a2 = df.loc[(df[\"date\"] < \"2023-01-01\")]\n",
    "plot_a2 = plot_a2.loc[(plot_a2[\"is_low_before\"] == 1)]\n",
    "plot_a2 = plot_a2.groupby(\"intervention_index\")[\"real_wage\"].agg([\"mean\", \"std\"]).reset_index()\n",
    "\n",
    "\n",
    "hfont = {'fontname':'Heebo'}\n",
    "ylabel = (\"שכר חודשי ממוצע\")[::-1]\n",
    "xlabel = (\"חודשים לפני ואחרי סיום ההכשרה\")[::-1]\n",
    "line_title = (\"חודש סיום\")[::-1]\n",
    "\n",
    "# Line plot of mean wage\n",
    "plt.figure(figsize=(10, 5))\n",
    "sns.lineplot(x=\"intervention_index\", y=\"mean\", data=plot_a2)\n",
    "plt.gca().lines[0].set_color(\"#006BA2\")\n",
    "plt.xlabel(xlabel, **hfont)\n",
    "plt.ylabel(ylabel, **hfont)\n",
    "plt.yticks(np.arange(0,7500, 1000))\n",
    "plt.axvline(x=0, color=\"black\", linestyle=(0, (1, 5))) # intervention month\n",
    "plt.text(-0.4, 4500, line_title, rotation=90, backgroundcolor=\"white\", **hfont)\n",
    "plt.gca().spines['right'].set_visible(False)\n",
    "plt.gca().spines['top'].set_visible(False)\n",
    "plt.gca().spines['left'].set_visible(False)\n",
    "## Remove ticks\n",
    "plt.gca().tick_params(axis='y', which='both', length=0)\n",
    "\n",
    "plt.gca().yaxis.set_major_formatter(ticker.FuncFormatter(lambda x, pos: '{:,.0f}'.format(x)))\n",
    "plt.gca().yaxis.grid(True, linestyle='-', which='major', color='lightgrey', alpha=0.5) ## Add horizontal grid"
   ]
  },
  {
   "cell_type": "code",
   "execution_count": null,
   "metadata": {},
   "outputs": [],
   "source": [
    "## Plot B\n",
    "### 24 month before and after intervention\n",
    "### Before Covid\n",
    "\n",
    "## filter after before 2019\n",
    "plot_b = df.loc[(df[\"date\"] < \"2023-01-01\")]\n",
    "plot_b = plot_b.groupby([\"intervention_index\",\"is_low_before\"])[\"real_wage\"].agg([\"mean\", \"std\"]).reset_index()\n",
    "plot_b[\"is_low_before\"] = plot_b[\"is_low_before\"].replace({0: \"ןכ\", 1: \"אל\"})\n",
    "\n",
    "# Line plot of mean wage\n",
    "plt.figure(figsize=(10, 5))\n",
    "sns.lineplot(x=\"intervention_index\", y=\"mean\", data=plot_b, hue=\"is_low_before\", palette=[\"#006BA2\", \"#DB444B\"])\n",
    "plt.xlabel(xlabel, **hfont)\n",
    "plt.ylabel(ylabel, **hfont)\n",
    "plt.yticks(np.arange(0, 12500, 2000))\n",
    "plt.axvline(x=0, color=\"black\", linestyle=(0, (1, 5))) # intervention month\n",
    "plt.text(-0.4, 4000, line_title, rotation=90, backgroundcolor=\"white\", **hfont)\n",
    "plt.gca().spines['right'].set_visible(False)\n",
    "plt.gca().spines['top'].set_visible(False)\n",
    "plt.gca().spines['left'].set_visible(False)\n",
    "\n",
    "plt.gca().yaxis.set_major_formatter(ticker.FuncFormatter(lambda x, pos: '{:,.0f}'.format(x)))\n",
    "plt.gca().yaxis.grid(True, linestyle='-', which='major', color='lightgrey', alpha=0.5) ## Add horizontal grid\n",
    "\n",
    "plt.gca().tick_params(axis='y', which='both', length=0)\n",
    "\n",
    "handles, labels = plt.gca().get_legend_handles_labels()\n",
    "plt.gca().legend(handles=handles[0:], labels=labels[0:], loc='upper center', bbox_to_anchor=(0.5, -0.15), ncol=2)\n",
    "\n"
   ]
  },
  {
   "cell_type": "code",
   "execution_count": null,
   "metadata": {},
   "outputs": [],
   "source": [
    "## Plot C\n",
    "### 24 month before and after intervention\n",
    "### Before Covid\n",
    "### By gender\n",
    "\n",
    "## filter after before 2019\n",
    "plot_c = df.loc[(df[\"date\"] < \"2023-01-01\")]\n",
    "plot_c = plot_c.groupby([\"intervention_index\",\"gender\"])[\"real_wage\"].agg([\"mean\", \"std\"]).reset_index()\n",
    "\n",
    "# Line plot of mean wage\n",
    "plt.figure(figsize=(10, 5))\n",
    "sns.lineplot(x=\"intervention_index\", y=\"mean\", data=plot_c, hue=\"gender\", palette=[\"#006BA2\", \"#DB444B\"])\n",
    "plt.xlabel(xlabel, **hfont)\n",
    "plt.ylabel(ylabel, **hfont)\n",
    "plt.yticks(np.arange(0, 13000, 2000))\n",
    "plt.axvline(x=0, color=\"black\", linestyle=(0, (1, 5))) # intervention month\n",
    "plt.text(-0.4, 600, line_title, rotation=90, backgroundcolor=\"white\", **hfont)\n",
    "plt.gca().spines['right'].set_visible(False)\n",
    "plt.gca().spines['top'].set_visible(False)\n",
    "plt.gca().spines['left'].set_visible(False)\n",
    "\n",
    "plt.gca().yaxis.set_major_formatter(ticker.FuncFormatter(lambda x, pos: '{:,.0f}'.format(x)))\n",
    "plt.gca().yaxis.grid(True, linestyle='-', which='major', color='lightgrey', alpha=0.5) ## Add horizontal grid\n",
    "\n",
    "legend_title = (\"מגדר\")[::-1]\n",
    "plt.gca().get_legend().set_title(legend_title)\n",
    "labels = [\"םירבג\", \"םישנ\"]\n",
    "\n",
    "plt.gca().tick_params(axis='y', which='both', length=0)\n",
    "\n",
    "\n",
    "for t, l in zip(plt.gca().get_legend().texts, labels): t.set_text(l)\n",
    "## legend labels side by side not on top of each other\n",
    "handles, labels = plt.gca().get_legend_handles_labels()\n",
    "plt.gca().legend(handles=handles[0:], labels=labels[0:], loc='upper center', bbox_to_anchor=(0.5, -0.15), ncol=2)\n"
   ]
  },
  {
   "cell_type": "code",
   "execution_count": null,
   "metadata": {},
   "outputs": [],
   "source": [
    "eshcolot = df[\"eshcol\"].value_counts().index.tolist()"
   ]
  },
  {
   "cell_type": "code",
   "execution_count": null,
   "metadata": {},
   "outputs": [],
   "source": [
    "eshcol =\"ניהול משרד\""
   ]
  },
  {
   "attachments": {},
   "cell_type": "markdown",
   "metadata": {},
   "source": [
    "נהיגה\n",
    "ניהול משרד\n",
    "חינוך בגיל הרך\n",
    "חשמלאים\n",
    "פיתוח תוכנה\n",
    "קוסמטיקה\n",
    "תשתיות תקשורת- הדרכה, הטמעה ניהול ויישום\n",
    "חשב שכר\n",
    "בודקי תוכנה ו QA\n",
    "טבחות וקונדיטאות\n",
    "עיצוב שיער\n",
    "מנהלי עבודה בבניין\n",
    "מיזוג אוויר\n",
    "עיבוד שבבי\n",
    "דפוס/עיצוב \n",
    "ניהול לוגיסטיקה שרשרת אספקה, מלאי ורכש\n",
    "הפעלת עגורנים\n",
    "מכונאות רכב/אוטוטרוניקה\n",
    "מסגרות וריתוך\n",
    "ניהול קמפיינים ומדיה חברתית\n",
    "בניה ותחזוקה"
   ]
  },
  {
   "cell_type": "code",
   "execution_count": null,
   "metadata": {},
   "outputs": [],
   "source": [
    "## Plot D\n",
    "### 24 month before and after intervention\n",
    "### Before Covid\n",
    "### by eshcol\n",
    "\n",
    "## filter after before 2019\n",
    "plot_d = df.loc[(df[\"date\"] < \"2023-01-01\")]\n",
    "plot_d = plot_d.groupby([\"intervention_index\",\"eshcol\"])[\"real_wage\"].agg([\"mean\", \"std\"]).reset_index()\n",
    "\n",
    "\n",
    "# Line plot of mean wage\n",
    "## All lines grey except for the one we want to highlight in red and in the front\n",
    "\n",
    "\n",
    "plt.figure(figsize=(10, 5))\n",
    "\n",
    "## plot all lines grey\n",
    "for i in plot_d[\"eshcol\"].unique():\n",
    "    plot_d_temp = plot_d.loc[(plot_d[\"eshcol\"] == i)]\n",
    "    sns.lineplot(x=\"intervention_index\", y=\"mean\", data=plot_d_temp, color=\"#E0e0e0\", alpha=0.5)\n",
    "\n",
    "## plot the line we want to highlight in red\n",
    "\n",
    "plot_d_temp = plot_d.loc[(plot_d[\"eshcol\"] == eshcol)]\n",
    "sns.lineplot(x=\"intervention_index\", y=\"mean\", data=plot_d_temp, color=\"#F84040\")\n",
    "\n",
    "\n",
    "plt.xlabel(xlabel, **hfont)\n",
    "plt.ylabel(ylabel, **hfont)\n",
    "plt.yticks(np.arange(0, 30000, 4000))\n",
    "plt.axvline(x=0, color=\"black\", linestyle=(0, (1, 10))) # intervention month\n",
    "#plt.text(-0.4, 4000, line_title, rotation=90, backgroundcolor=\"white\", **hfont)\n",
    "plt.gca().spines['right'].set_visible(False)\n",
    "plt.gca().spines['top'].set_visible(False)\n",
    "plt.gca().yaxis.set_major_formatter(ticker.FuncFormatter(lambda x, pos: '{:,.0f}'.format(x)))\n",
    "plt.gca().yaxis.grid(True, linestyle='-', which='major', color=\"lightgrey\", alpha=0.5) ## Add horizontal grid\n"
   ]
  },
  {
   "cell_type": "code",
   "execution_count": null,
   "metadata": {},
   "outputs": [],
   "source": [
    "import plotly.express as px\n",
    "\n",
    "## line plot with different line to eshcol\n",
    "fig = px.line(plot_d, x=\"intervention_index\", y=\"mean\", color=\"eshcol\")\n",
    "fig.show()\n",
    "## save plot to html\n",
    "fig.write_html(\"eshcolot.html\")"
   ]
  },
  {
   "cell_type": "code",
   "execution_count": null,
   "metadata": {},
   "outputs": [],
   "source": [
    "## Plot E\n",
    "### 24 month before and after intervention\n",
    "### Before Covid\n",
    "### by eshcol and worked before training\n",
    "\n",
    "## filter after before ___\n",
    "plot_e = df.loc[(df[\"date\"] < \"2023-01-01\")]\n",
    "plot_e = plot_e.loc[(plot_e[\"end_year\"] >= 2016)]\n",
    "plot_e = plot_e.groupby([\"intervention_index\",\"eshcol\", \"is_low_before\"])[\"real_wage\"].agg([\"mean\", \"std\",\"count\"]).reset_index()\n",
    "\n",
    "# Line plot of mean wage\n",
    "\n",
    "plot_e_temp = plot_e.loc[(plot_e[\"eshcol\"] == eshcol)]\n",
    "## Reaplce is_low_before with \"כן\" and \"לא\"\n",
    "plot_e_temp[\"is_low_before\"] = plot_e_temp[\"is_low_before\"].replace({1: \"אל\", 0: \"ןכ\"})\n",
    "\n",
    "plt.figure(figsize=(10, 5))\n",
    "sns.lineplot(x=\"intervention_index\", y=\"mean\", data=plot_e_temp, hue=\"is_low_before\", palette=[\"#006BA2\", \"#DB444B\"])\n",
    "plt.xlabel(xlabel, **hfont)\n",
    "plt.ylabel(ylabel, **hfont)\n",
    "plt.yticks(np.arange(0, 9500, 2500))\n",
    "plt.axvline(x=0, color=\"black\", linestyle=(0, (1, 10))) # intervention month\n",
    "#plt.text(-0.3, 4500, line_title, rotation=90, backgroundcolor=\"white\", **hfont)\n",
    "plt.gca().spines['right'].set_visible(False)\n",
    "plt.gca().spines['top'].set_visible(False)\n",
    "\n",
    "plt.gca().tick_params(axis='y', which='both', length=0)\n",
    "plt.gca().spines['left'].set_visible(False)\n",
    "\n",
    "plt.gca().yaxis.set_major_formatter(ticker.FuncFormatter(lambda x, pos: '{:,.0f}'.format(x)))\n",
    "plt.gca().yaxis.grid(True, linestyle='-', which='major', color=\"lightgrey\", alpha=0.5) ## Add horizontal grid\n",
    "handles, labels = plt.gca().get_legend_handles_labels()\n",
    "plt.gca().legend(handles=handles[0:], labels=labels[0:], loc='upper center', bbox_to_anchor=(0.5, -0.15), ncol=2)\n"
   ]
  }
 ],
 "metadata": {
  "kernelspec": {
   "display_name": "base",
   "language": "python",
   "name": "python3"
  },
  "language_info": {
   "codemirror_mode": {
    "name": "ipython",
    "version": 3
   },
   "file_extension": ".py",
   "mimetype": "text/x-python",
   "name": "python",
   "nbconvert_exporter": "python",
   "pygments_lexer": "ipython3",
   "version": "3.10.9"
  },
  "orig_nbformat": 4,
  "vscode": {
   "interpreter": {
    "hash": "8fcd610f96fc2ea517f0d7bca0e2b2aa80f8e72378a88a658472599d760211c0"
   }
  }
 },
 "nbformat": 4,
 "nbformat_minor": 2
}
