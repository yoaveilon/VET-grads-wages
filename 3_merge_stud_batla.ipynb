{
 "cells": [
  {
   "cell_type": "code",
   "execution_count": 1,
   "metadata": {},
   "outputs": [],
   "source": [
    "import pandas as pd\n",
    "import numpy as np\n",
    "import datetime\n"
   ]
  },
  {
   "cell_type": "code",
   "execution_count": 2,
   "metadata": {},
   "outputs": [],
   "source": [
    "students = pd.read_csv(\"Data/Students data/students_processed_2.csv\")\n",
    "batla = pd.read_csv(\"Output/BONUS_HASAM_202206233_35.csv\")"
   ]
  },
  {
   "cell_type": "code",
   "execution_count": 3,
   "metadata": {},
   "outputs": [],
   "source": [
    "students[\"end_date\"] = students[\"end_date\"].apply(pd.to_datetime, format='%Y-%m-%d')"
   ]
  },
  {
   "cell_type": "code",
   "execution_count": 4,
   "metadata": {},
   "outputs": [],
   "source": [
    "## keep columns\n",
    "keep_cols = [\"id\",\"gender\",\"end_date\",\"end_year\",\"mosad_id\",\"eshcol\",\"group\"]\n",
    "students = students[keep_cols]"
   ]
  },
  {
   "cell_type": "code",
   "execution_count": 5,
   "metadata": {},
   "outputs": [],
   "source": [
    "## drop Unnamed: 0\n",
    "batla = batla.drop(columns=[\"Unnamed: 0\"])"
   ]
  },
  {
   "cell_type": "code",
   "execution_count": 6,
   "metadata": {},
   "outputs": [],
   "source": [
    "## Merge Leftovers\n",
    "merged = pd.merge(students, batla, how=\"outer\", on=\"id\", indicator=True)\n",
    "left_only = merged[merged[\"_merge\"] == \"left_only\"]"
   ]
  },
  {
   "cell_type": "code",
   "execution_count": 12,
   "metadata": {},
   "outputs": [
    {
     "data": {
      "text/plain": [
       "2011.0    90\n",
       "2012.0    80\n",
       "2015.0    72\n",
       "2013.0    68\n",
       "2019.0    66\n",
       "2016.0    65\n",
       "2018.0    52\n",
       "2014.0    46\n",
       "2017.0    45\n",
       "2020.0    39\n",
       "2010.0    34\n",
       "1900.0    28\n",
       "2021.0    25\n",
       "Name: end_year, dtype: int64"
      ]
     },
     "execution_count": 12,
     "metadata": {},
     "output_type": "execute_result"
    }
   ],
   "source": [
    "left_only[\"end_year\"].value_counts(sort=True)"
   ]
  },
  {
   "cell_type": "code",
   "execution_count": 7,
   "metadata": {},
   "outputs": [],
   "source": [
    "df = pd.merge(batla, students, on=\"id\", how=\"left\")"
   ]
  },
  {
   "cell_type": "code",
   "execution_count": 10,
   "metadata": {},
   "outputs": [
    {
     "data": {
      "text/plain": [
       "16898"
      ]
     },
     "execution_count": 10,
     "metadata": {},
     "output_type": "execute_result"
    }
   ],
   "source": [
    "nehiga = students.loc[(students[\"eshcol\"] == 'נהיגה ')]\n",
    "nehiga = nehiga.loc[(nehiga[\"end_year\"] == 2018) | (nehiga[\"end_year\"] == 2019)]\n",
    "nehiga[\"id\"].nunique()"
   ]
  },
  {
   "cell_type": "code",
   "execution_count": 7,
   "metadata": {},
   "outputs": [],
   "source": [
    "## Filter after 2016\n",
    "df = df.loc[(df[\"end_year\"] >= 2016)]"
   ]
  },
  {
   "cell_type": "code",
   "execution_count": 10,
   "metadata": {},
   "outputs": [],
   "source": [
    "df[\"date\"] =  pd.to_datetime(df[\"date\"])\n",
    "#df[\"end_date\"] =  pd.to_datetime(df[\"end_date\"])\n",
    "\n",
    "def inter(x):\n",
    "\n",
    "    if x[\"date\"].year == x[\"end_date\"].year and x[\"date\"].month == x[\"end_date\"].month:\n",
    "        return 1\n",
    "    else:\n",
    "        return 0\n",
    "\n",
    "df[\"intervention\"] = df.apply(inter, axis=1)"
   ]
  },
  {
   "cell_type": "code",
   "execution_count": 11,
   "metadata": {},
   "outputs": [],
   "source": [
    "# Index monthes before and after intervention\n",
    "df = df.sort_values(by=['id','date'], ascending=False)\n",
    "df['intervention_index_pre'] = df.groupby('id',group_keys=False)['intervention'].apply(lambda x: (x - x.cumsum()).where(x == 1, lambda x: x.cumsum()))\n",
    "\n",
    "df = df.sort_values(by=['id','date'], ascending=True)\n",
    "df['intervention_index_post'] = df.groupby('id',group_keys=False)['intervention'].apply(lambda x: (x - x.cumsum()).where(x == 1, lambda x: x.cumsum()))\n",
    "df[\"intervention_index_post\"] = df[\"intervention_index_post\"]*-1\n",
    "\n",
    "def intervention(x):\n",
    "    if x[\"intervention_index_pre\"] < 0:\n",
    "        return x[\"intervention_index_pre\"]\n",
    "    if x[\"intervention_index_pre\"] == 0:\n",
    "        return x[\"intervention_index_post\"]\n",
    "    else:\n",
    "        return 0\n",
    "\n",
    "df[\"intervention_index\"] = df.apply(intervention, axis=1)\n",
    "df= df.drop(columns=[\"intervention_index_pre\",\"intervention_index_post\"])"
   ]
  },
  {
   "cell_type": "code",
   "execution_count": 12,
   "metadata": {},
   "outputs": [],
   "source": [
    "## Drop observation finished after batla data range\n",
    "df = df.loc[(df[\"intervention\"]!=0) | (df[\"intervention_index\"]!=0)]"
   ]
  },
  {
   "cell_type": "code",
   "execution_count": 14,
   "metadata": {},
   "outputs": [],
   "source": [
    "df.to_csv(\"Output/merge_stud_batla.csv\", index=False)"
   ]
  }
 ],
 "metadata": {
  "kernelspec": {
   "display_name": "base",
   "language": "python",
   "name": "python3"
  },
  "language_info": {
   "codemirror_mode": {
    "name": "ipython",
    "version": 3
   },
   "file_extension": ".py",
   "mimetype": "text/x-python",
   "name": "python",
   "nbconvert_exporter": "python",
   "pygments_lexer": "ipython3",
   "version": "3.10.9"
  },
  "orig_nbformat": 4,
  "vscode": {
   "interpreter": {
    "hash": "21285703334ff9ad0485a20549414d39509d302abdef938bdec846b879f92609"
   }
  }
 },
 "nbformat": 4,
 "nbformat_minor": 2
}
